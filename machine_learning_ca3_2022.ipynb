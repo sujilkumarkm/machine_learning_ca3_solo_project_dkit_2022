{
 "cells": [
  {
   "cell_type": "markdown",
   "id": "27c1f7b3",
   "metadata": {},
   "source": [
    "# Machine Learning Assignment 3\n",
    "###  Prepared by Sujil Kumar K.M (D00242726)\n",
    "##### Trump Approval Ratings"
   ]
  },
  {
   "cell_type": "code",
   "execution_count": 142,
   "id": "b7e4a4cd",
   "metadata": {
    "scrolled": false
   },
   "outputs": [
    {
     "data": {
      "text/html": [
       "<div>\n",
       "<style scoped>\n",
       "    .dataframe tbody tr th:only-of-type {\n",
       "        vertical-align: middle;\n",
       "    }\n",
       "\n",
       "    .dataframe tbody tr th {\n",
       "        vertical-align: top;\n",
       "    }\n",
       "\n",
       "    .dataframe thead th {\n",
       "        text-align: right;\n",
       "    }\n",
       "</style>\n",
       "<table border=\"1\" class=\"dataframe\">\n",
       "  <thead>\n",
       "    <tr style=\"text-align: right;\">\n",
       "      <th></th>\n",
       "      <th>president</th>\n",
       "      <th>subgroup</th>\n",
       "      <th>modeldate</th>\n",
       "      <th>approve_estimate</th>\n",
       "      <th>approve_hi</th>\n",
       "      <th>approve_lo</th>\n",
       "      <th>disapprove_estimate</th>\n",
       "      <th>disapprove_hi</th>\n",
       "      <th>disapprove_lo</th>\n",
       "      <th>timestamp</th>\n",
       "    </tr>\n",
       "  </thead>\n",
       "  <tbody>\n",
       "    <tr>\n",
       "      <th>0</th>\n",
       "      <td>Donald Trump</td>\n",
       "      <td>Voters</td>\n",
       "      <td>1/20/2021</td>\n",
       "      <td>39.41</td>\n",
       "      <td>45.87</td>\n",
       "      <td>32.95</td>\n",
       "      <td>56.71</td>\n",
       "      <td>62.47</td>\n",
       "      <td>50.95</td>\n",
       "      <td>11:52:51 20 Jan 2021</td>\n",
       "    </tr>\n",
       "    <tr>\n",
       "      <th>1</th>\n",
       "      <td>Donald Trump</td>\n",
       "      <td>Adults</td>\n",
       "      <td>1/20/2021</td>\n",
       "      <td>36.95</td>\n",
       "      <td>42.81</td>\n",
       "      <td>31.09</td>\n",
       "      <td>59.62</td>\n",
       "      <td>65.47</td>\n",
       "      <td>53.76</td>\n",
       "      <td>11:49:36 20 Jan 2021</td>\n",
       "    </tr>\n",
       "    <tr>\n",
       "      <th>2</th>\n",
       "      <td>Donald Trump</td>\n",
       "      <td>All polls</td>\n",
       "      <td>1/20/2021</td>\n",
       "      <td>38.62</td>\n",
       "      <td>44.94</td>\n",
       "      <td>32.30</td>\n",
       "      <td>57.85</td>\n",
       "      <td>63.68</td>\n",
       "      <td>52.02</td>\n",
       "      <td>11:47:59 20 Jan 2021</td>\n",
       "    </tr>\n",
       "    <tr>\n",
       "      <th>3</th>\n",
       "      <td>Donald Trump</td>\n",
       "      <td>All polls</td>\n",
       "      <td>1/19/2021</td>\n",
       "      <td>39.16</td>\n",
       "      <td>45.18</td>\n",
       "      <td>33.14</td>\n",
       "      <td>57.43</td>\n",
       "      <td>62.94</td>\n",
       "      <td>51.92</td>\n",
       "      <td>22:36:53 19 Jan 2021</td>\n",
       "    </tr>\n",
       "    <tr>\n",
       "      <th>4</th>\n",
       "      <td>Donald Trump</td>\n",
       "      <td>Adults</td>\n",
       "      <td>1/19/2021</td>\n",
       "      <td>38.05</td>\n",
       "      <td>43.54</td>\n",
       "      <td>32.56</td>\n",
       "      <td>59.08</td>\n",
       "      <td>64.49</td>\n",
       "      <td>53.67</td>\n",
       "      <td>22:38:31 19 Jan 2021</td>\n",
       "    </tr>\n",
       "  </tbody>\n",
       "</table>\n",
       "</div>"
      ],
      "text/plain": [
       "      president   subgroup  modeldate  approve_estimate  approve_hi  \\\n",
       "0  Donald Trump     Voters  1/20/2021             39.41       45.87   \n",
       "1  Donald Trump     Adults  1/20/2021             36.95       42.81   \n",
       "2  Donald Trump  All polls  1/20/2021             38.62       44.94   \n",
       "3  Donald Trump  All polls  1/19/2021             39.16       45.18   \n",
       "4  Donald Trump     Adults  1/19/2021             38.05       43.54   \n",
       "\n",
       "   approve_lo  disapprove_estimate  disapprove_hi  disapprove_lo  \\\n",
       "0       32.95                56.71          62.47          50.95   \n",
       "1       31.09                59.62          65.47          53.76   \n",
       "2       32.30                57.85          63.68          52.02   \n",
       "3       33.14                57.43          62.94          51.92   \n",
       "4       32.56                59.08          64.49          53.67   \n",
       "\n",
       "              timestamp  \n",
       "0  11:52:51 20 Jan 2021  \n",
       "1  11:49:36 20 Jan 2021  \n",
       "2  11:47:59 20 Jan 2021  \n",
       "3  22:36:53 19 Jan 2021  \n",
       "4  22:38:31 19 Jan 2021  "
      ]
     },
     "execution_count": 142,
     "metadata": {},
     "output_type": "execute_result"
    }
   ],
   "source": [
    "import pandas as pd\n",
    "import numpy as np\n",
    "import os\n",
    "df = pd.read_csv('E:\\\\Mchine_Learning\\\\temp_repo_for_ml_reflection\\\\approval_topline.csv')\n",
    "df.head()"
   ]
  },
  {
   "cell_type": "markdown",
   "id": "ef23d64b",
   "metadata": {},
   "source": [
    "This data contains a trendline for the approval ratings for former US President Donald Trump"
   ]
  },
  {
   "cell_type": "code",
   "execution_count": 143,
   "id": "17b4b049",
   "metadata": {
    "scrolled": true
   },
   "outputs": [
    {
     "name": "stdout",
     "output_type": "stream",
     "text": [
      "<class 'pandas.core.frame.DataFrame'>\n",
      "RangeIndex: 4377 entries, 0 to 4376\n",
      "Data columns (total 10 columns):\n",
      " #   Column               Non-Null Count  Dtype  \n",
      "---  ------               --------------  -----  \n",
      " 0   president            4377 non-null   object \n",
      " 1   subgroup             4377 non-null   object \n",
      " 2   modeldate            4377 non-null   object \n",
      " 3   approve_estimate     4377 non-null   float64\n",
      " 4   approve_hi           4377 non-null   float64\n",
      " 5   approve_lo           4377 non-null   float64\n",
      " 6   disapprove_estimate  4377 non-null   float64\n",
      " 7   disapprove_hi        4377 non-null   float64\n",
      " 8   disapprove_lo        4377 non-null   float64\n",
      " 9   timestamp            4377 non-null   object \n",
      "dtypes: float64(6), object(4)\n",
      "memory usage: 342.1+ KB\n",
      "None\n"
     ]
    }
   ],
   "source": [
    "print(df.info())"
   ]
  },
  {
   "cell_type": "code",
   "execution_count": 144,
   "id": "b3478687",
   "metadata": {
    "scrolled": false
   },
   "outputs": [
    {
     "data": {
      "text/plain": [
       "Index(['president', 'subgroup', 'modeldate', 'approve_estimate', 'approve_hi',\n",
       "       'approve_lo', 'disapprove_estimate', 'disapprove_hi', 'disapprove_lo',\n",
       "       'timestamp'],\n",
       "      dtype='object')"
      ]
     },
     "execution_count": 144,
     "metadata": {},
     "output_type": "execute_result"
    }
   ],
   "source": [
    "# checking columns names\n",
    "df.columns"
   ]
  },
  {
   "cell_type": "code",
   "execution_count": 145,
   "id": "20442373",
   "metadata": {},
   "outputs": [
    {
     "name": "stdout",
     "output_type": "stream",
     "text": [
      "      president   subgroup  modeldate  approve_estimate  approve_hi  \\\n",
      "0  Donald Trump     Voters  1/20/2021             39.41       45.87   \n",
      "1  Donald Trump     Adults  1/20/2021             36.95       42.81   \n",
      "2  Donald Trump  All polls  1/20/2021             38.62       44.94   \n",
      "3  Donald Trump  All polls  1/19/2021             39.16       45.18   \n",
      "4  Donald Trump     Adults  1/19/2021             38.05       43.54   \n",
      "5  Donald Trump     Voters  1/19/2021             40.15       45.83   \n",
      "6  Donald Trump     Adults  1/18/2021             36.15       41.19   \n",
      "7  Donald Trump     Voters  1/18/2021             39.77       45.41   \n",
      "8  Donald Trump  All polls  1/18/2021             38.26       44.22   \n",
      "9  Donald Trump     Voters  1/17/2021             40.24       45.61   \n",
      "\n",
      "   approve_lo  disapprove_estimate  disapprove_hi  disapprove_lo  \\\n",
      "0       32.95                56.71          62.47          50.95   \n",
      "1       31.09                59.62          65.47          53.76   \n",
      "2       32.30                57.85          63.68          52.02   \n",
      "3       33.14                57.43          62.94          51.92   \n",
      "4       32.56                59.08          64.49          53.67   \n",
      "5       34.48                55.79          60.74          50.84   \n",
      "6       31.11                60.59          65.84          55.33   \n",
      "7       34.13                56.13          61.05          51.22   \n",
      "8       32.31                58.15          63.70          52.60   \n",
      "9       34.86                55.65          60.34          50.96   \n",
      "\n",
      "              timestamp  \n",
      "0  11:52:51 20 Jan 2021  \n",
      "1  11:49:36 20 Jan 2021  \n",
      "2  11:47:59 20 Jan 2021  \n",
      "3  22:36:53 19 Jan 2021  \n",
      "4  22:38:31 19 Jan 2021  \n",
      "5  22:41:48 19 Jan 2021  \n",
      "6  15:11:31 18 Jan 2021  \n",
      "7  15:16:08 18 Jan 2021  \n",
      "8  15:09:53 18 Jan 2021  \n",
      "9  13:56:55 17 Jan 2021  \n"
     ]
    }
   ],
   "source": [
    "# Quick Glance\n",
    "Glance=10\n",
    "view=df.head(Glance)\n",
    "print(view)\n"
   ]
  },
  {
   "cell_type": "code",
   "execution_count": 146,
   "id": "cae3bbbe",
   "metadata": {
    "scrolled": true
   },
   "outputs": [
    {
     "name": "stdout",
     "output_type": "stream",
     "text": [
      "<class 'pandas.core.frame.DataFrame'>\n",
      "Int64Index: 4377 entries, 0 to 4376\n",
      "Data columns (total 10 columns):\n",
      " #   Column               Non-Null Count  Dtype  \n",
      "---  ------               --------------  -----  \n",
      " 0   president            4377 non-null   object \n",
      " 1   subgroup             4377 non-null   object \n",
      " 2   modeldate            4377 non-null   object \n",
      " 3   approve_estimate     4377 non-null   float64\n",
      " 4   approve_hi           4377 non-null   float64\n",
      " 5   approve_lo           4377 non-null   float64\n",
      " 6   disapprove_estimate  4377 non-null   float64\n",
      " 7   disapprove_hi        4377 non-null   float64\n",
      " 8   disapprove_lo        4377 non-null   float64\n",
      " 9   timestamp            4377 non-null   object \n",
      "dtypes: float64(6), object(4)\n",
      "memory usage: 376.1+ KB\n",
      "None\n"
     ]
    }
   ],
   "source": [
    "# deleting duplicates\n",
    "df.drop_duplicates(keep='first',inplace=True)\n",
    "print(df.info())"
   ]
  },
  {
   "cell_type": "code",
   "execution_count": null,
   "id": "cf002a32",
   "metadata": {},
   "outputs": [],
   "source": []
  },
  {
   "cell_type": "code",
   "execution_count": 147,
   "id": "8f4cb353",
   "metadata": {},
   "outputs": [],
   "source": [
    "# renaming feature name\n",
    "df.rename( {'predicted_probability':'pred_prob' } , axis=1 , inplace = True)"
   ]
  },
  {
   "cell_type": "markdown",
   "id": "66320606",
   "metadata": {},
   "source": [
    "Column names are seems to be meaningful and suitable, I am not changing any names."
   ]
  },
  {
   "cell_type": "code",
   "execution_count": 148,
   "id": "da77c5a2",
   "metadata": {
    "scrolled": false
   },
   "outputs": [
    {
     "data": {
      "text/html": [
       "<div>\n",
       "<style scoped>\n",
       "    .dataframe tbody tr th:only-of-type {\n",
       "        vertical-align: middle;\n",
       "    }\n",
       "\n",
       "    .dataframe tbody tr th {\n",
       "        vertical-align: top;\n",
       "    }\n",
       "\n",
       "    .dataframe thead th {\n",
       "        text-align: right;\n",
       "    }\n",
       "</style>\n",
       "<table border=\"1\" class=\"dataframe\">\n",
       "  <thead>\n",
       "    <tr style=\"text-align: right;\">\n",
       "      <th></th>\n",
       "      <th>approve_estimate</th>\n",
       "      <th>approve_hi</th>\n",
       "      <th>approve_lo</th>\n",
       "      <th>disapprove_estimate</th>\n",
       "      <th>disapprove_hi</th>\n",
       "      <th>disapprove_lo</th>\n",
       "    </tr>\n",
       "  </thead>\n",
       "  <tbody>\n",
       "    <tr>\n",
       "      <th>count</th>\n",
       "      <td>4377.00</td>\n",
       "      <td>4377.00</td>\n",
       "      <td>4377.00</td>\n",
       "      <td>4377.00</td>\n",
       "      <td>4377.00</td>\n",
       "      <td>4377.00</td>\n",
       "    </tr>\n",
       "    <tr>\n",
       "      <th>mean</th>\n",
       "      <td>41.46</td>\n",
       "      <td>45.75</td>\n",
       "      <td>37.18</td>\n",
       "      <td>53.49</td>\n",
       "      <td>57.85</td>\n",
       "      <td>49.13</td>\n",
       "    </tr>\n",
       "    <tr>\n",
       "      <th>std</th>\n",
       "      <td>2.01</td>\n",
       "      <td>2.20</td>\n",
       "      <td>1.95</td>\n",
       "      <td>1.96</td>\n",
       "      <td>2.00</td>\n",
       "      <td>2.03</td>\n",
       "    </tr>\n",
       "    <tr>\n",
       "      <th>min</th>\n",
       "      <td>34.93</td>\n",
       "      <td>38.82</td>\n",
       "      <td>31.04</td>\n",
       "      <td>37.00</td>\n",
       "      <td>43.29</td>\n",
       "      <td>30.71</td>\n",
       "    </tr>\n",
       "    <tr>\n",
       "      <th>25%</th>\n",
       "      <td>40.31</td>\n",
       "      <td>44.31</td>\n",
       "      <td>36.12</td>\n",
       "      <td>52.54</td>\n",
       "      <td>56.75</td>\n",
       "      <td>48.30</td>\n",
       "    </tr>\n",
       "    <tr>\n",
       "      <th>50%</th>\n",
       "      <td>41.62</td>\n",
       "      <td>46.01</td>\n",
       "      <td>37.44</td>\n",
       "      <td>53.39</td>\n",
       "      <td>57.70</td>\n",
       "      <td>49.14</td>\n",
       "    </tr>\n",
       "    <tr>\n",
       "      <th>75%</th>\n",
       "      <td>42.86</td>\n",
       "      <td>47.24</td>\n",
       "      <td>38.52</td>\n",
       "      <td>54.54</td>\n",
       "      <td>58.99</td>\n",
       "      <td>50.20</td>\n",
       "    </tr>\n",
       "    <tr>\n",
       "      <th>max</th>\n",
       "      <td>48.62</td>\n",
       "      <td>53.80</td>\n",
       "      <td>43.43</td>\n",
       "      <td>60.59</td>\n",
       "      <td>65.84</td>\n",
       "      <td>55.33</td>\n",
       "    </tr>\n",
       "  </tbody>\n",
       "</table>\n",
       "</div>"
      ],
      "text/plain": [
       "       approve_estimate  approve_hi  approve_lo  disapprove_estimate  \\\n",
       "count           4377.00     4377.00     4377.00              4377.00   \n",
       "mean              41.46       45.75       37.18                53.49   \n",
       "std                2.01        2.20        1.95                 1.96   \n",
       "min               34.93       38.82       31.04                37.00   \n",
       "25%               40.31       44.31       36.12                52.54   \n",
       "50%               41.62       46.01       37.44                53.39   \n",
       "75%               42.86       47.24       38.52                54.54   \n",
       "max               48.62       53.80       43.43                60.59   \n",
       "\n",
       "       disapprove_hi  disapprove_lo  \n",
       "count        4377.00        4377.00  \n",
       "mean           57.85          49.13  \n",
       "std             2.00           2.03  \n",
       "min            43.29          30.71  \n",
       "25%            56.75          48.30  \n",
       "50%            57.70          49.14  \n",
       "75%            58.99          50.20  \n",
       "max            65.84          55.33  "
      ]
     },
     "execution_count": 148,
     "metadata": {},
     "output_type": "execute_result"
    }
   ],
   "source": [
    "# describing the dataset\n",
    "\n",
    "description=df.describe()\n",
    "description"
   ]
  },
  {
   "cell_type": "code",
   "execution_count": 149,
   "id": "b5a53582",
   "metadata": {},
   "outputs": [
    {
     "data": {
      "text/html": [
       "<div>\n",
       "<style scoped>\n",
       "    .dataframe tbody tr th:only-of-type {\n",
       "        vertical-align: middle;\n",
       "    }\n",
       "\n",
       "    .dataframe tbody tr th {\n",
       "        vertical-align: top;\n",
       "    }\n",
       "\n",
       "    .dataframe thead th {\n",
       "        text-align: right;\n",
       "    }\n",
       "</style>\n",
       "<table border=\"1\" class=\"dataframe\">\n",
       "  <thead>\n",
       "    <tr style=\"text-align: right;\">\n",
       "      <th></th>\n",
       "      <th>approve_estimate</th>\n",
       "      <th>approve_hi</th>\n",
       "      <th>approve_lo</th>\n",
       "      <th>disapprove_estimate</th>\n",
       "      <th>disapprove_hi</th>\n",
       "      <th>disapprove_lo</th>\n",
       "    </tr>\n",
       "  </thead>\n",
       "  <tbody>\n",
       "    <tr>\n",
       "      <th>count</th>\n",
       "      <td>4377.00</td>\n",
       "      <td>4377.00</td>\n",
       "      <td>4377.00</td>\n",
       "      <td>4377.00</td>\n",
       "      <td>4377.00</td>\n",
       "      <td>4377.00</td>\n",
       "    </tr>\n",
       "    <tr>\n",
       "      <th>mean</th>\n",
       "      <td>41.46</td>\n",
       "      <td>45.75</td>\n",
       "      <td>37.18</td>\n",
       "      <td>53.49</td>\n",
       "      <td>57.85</td>\n",
       "      <td>49.13</td>\n",
       "    </tr>\n",
       "    <tr>\n",
       "      <th>std</th>\n",
       "      <td>2.01</td>\n",
       "      <td>2.20</td>\n",
       "      <td>1.95</td>\n",
       "      <td>1.96</td>\n",
       "      <td>2.00</td>\n",
       "      <td>2.03</td>\n",
       "    </tr>\n",
       "    <tr>\n",
       "      <th>min</th>\n",
       "      <td>34.93</td>\n",
       "      <td>38.82</td>\n",
       "      <td>31.04</td>\n",
       "      <td>37.00</td>\n",
       "      <td>43.29</td>\n",
       "      <td>30.71</td>\n",
       "    </tr>\n",
       "    <tr>\n",
       "      <th>25%</th>\n",
       "      <td>40.31</td>\n",
       "      <td>44.31</td>\n",
       "      <td>36.12</td>\n",
       "      <td>52.54</td>\n",
       "      <td>56.75</td>\n",
       "      <td>48.30</td>\n",
       "    </tr>\n",
       "    <tr>\n",
       "      <th>50%</th>\n",
       "      <td>41.62</td>\n",
       "      <td>46.01</td>\n",
       "      <td>37.44</td>\n",
       "      <td>53.39</td>\n",
       "      <td>57.70</td>\n",
       "      <td>49.14</td>\n",
       "    </tr>\n",
       "    <tr>\n",
       "      <th>75%</th>\n",
       "      <td>42.86</td>\n",
       "      <td>47.24</td>\n",
       "      <td>38.52</td>\n",
       "      <td>54.54</td>\n",
       "      <td>58.99</td>\n",
       "      <td>50.20</td>\n",
       "    </tr>\n",
       "    <tr>\n",
       "      <th>max</th>\n",
       "      <td>48.62</td>\n",
       "      <td>53.80</td>\n",
       "      <td>43.43</td>\n",
       "      <td>60.59</td>\n",
       "      <td>65.84</td>\n",
       "      <td>55.33</td>\n",
       "    </tr>\n",
       "  </tbody>\n",
       "</table>\n",
       "</div>"
      ],
      "text/plain": [
       "       approve_estimate  approve_hi  approve_lo  disapprove_estimate  \\\n",
       "count           4377.00     4377.00     4377.00              4377.00   \n",
       "mean              41.46       45.75       37.18                53.49   \n",
       "std                2.01        2.20        1.95                 1.96   \n",
       "min               34.93       38.82       31.04                37.00   \n",
       "25%               40.31       44.31       36.12                52.54   \n",
       "50%               41.62       46.01       37.44                53.39   \n",
       "75%               42.86       47.24       38.52                54.54   \n",
       "max               48.62       53.80       43.43                60.59   \n",
       "\n",
       "       disapprove_hi  disapprove_lo  \n",
       "count        4377.00        4377.00  \n",
       "mean           57.85          49.13  \n",
       "std             2.00           2.03  \n",
       "min            43.29          30.71  \n",
       "25%            56.75          48.30  \n",
       "50%            57.70          49.14  \n",
       "75%            58.99          50.20  \n",
       "max            65.84          55.33  "
      ]
     },
     "execution_count": 149,
     "metadata": {},
     "output_type": "execute_result"
    }
   ],
   "source": [
    "# limiting the results upto two possible digits after decimals \n",
    "pd.set_option('precision', 2)\n",
    "description_wth_precesion=df.describe()\n",
    "description_wth_precesion"
   ]
  },
  {
   "cell_type": "code",
   "execution_count": 150,
   "id": "1ab3bbfc",
   "metadata": {
    "scrolled": true
   },
   "outputs": [
    {
     "name": "stdout",
     "output_type": "stream",
     "text": [
      "president               object\n",
      "subgroup                object\n",
      "modeldate               object\n",
      "approve_estimate       float64\n",
      "approve_hi             float64\n",
      "approve_lo             float64\n",
      "disapprove_estimate    float64\n",
      "disapprove_hi          float64\n",
      "disapprove_lo          float64\n",
      "timestamp               object\n",
      "dtype: object\n"
     ]
    }
   ],
   "source": [
    "types=df.dtypes\n",
    "print(types)"
   ]
  },
  {
   "cell_type": "code",
   "execution_count": 151,
   "id": "8700fa72",
   "metadata": {
    "scrolled": false
   },
   "outputs": [
    {
     "data": {
      "text/html": [
       "<div>\n",
       "<style scoped>\n",
       "    .dataframe tbody tr th:only-of-type {\n",
       "        vertical-align: middle;\n",
       "    }\n",
       "\n",
       "    .dataframe tbody tr th {\n",
       "        vertical-align: top;\n",
       "    }\n",
       "\n",
       "    .dataframe thead th {\n",
       "        text-align: right;\n",
       "    }\n",
       "</style>\n",
       "<table border=\"1\" class=\"dataframe\">\n",
       "  <thead>\n",
       "    <tr style=\"text-align: right;\">\n",
       "      <th></th>\n",
       "      <th>president</th>\n",
       "      <th>subgroup</th>\n",
       "      <th>modeldate</th>\n",
       "      <th>approve_estimate</th>\n",
       "      <th>approve_hi</th>\n",
       "      <th>approve_lo</th>\n",
       "      <th>disapprove_estimate</th>\n",
       "      <th>disapprove_hi</th>\n",
       "      <th>disapprove_lo</th>\n",
       "      <th>timestamp</th>\n",
       "    </tr>\n",
       "  </thead>\n",
       "  <tbody>\n",
       "    <tr>\n",
       "      <th>0</th>\n",
       "      <td>Donald Trump</td>\n",
       "      <td>Voters</td>\n",
       "      <td>1/20/2021</td>\n",
       "      <td>39.41</td>\n",
       "      <td>45.87</td>\n",
       "      <td>32.95</td>\n",
       "      <td>56.71</td>\n",
       "      <td>62.47</td>\n",
       "      <td>50.95</td>\n",
       "      <td>11:52:51 20 Jan 2021</td>\n",
       "    </tr>\n",
       "    <tr>\n",
       "      <th>1</th>\n",
       "      <td>Donald Trump</td>\n",
       "      <td>Adults</td>\n",
       "      <td>1/20/2021</td>\n",
       "      <td>36.95</td>\n",
       "      <td>42.81</td>\n",
       "      <td>31.09</td>\n",
       "      <td>59.62</td>\n",
       "      <td>65.47</td>\n",
       "      <td>53.76</td>\n",
       "      <td>11:49:36 20 Jan 2021</td>\n",
       "    </tr>\n",
       "    <tr>\n",
       "      <th>2</th>\n",
       "      <td>Donald Trump</td>\n",
       "      <td>All polls</td>\n",
       "      <td>1/20/2021</td>\n",
       "      <td>38.62</td>\n",
       "      <td>44.94</td>\n",
       "      <td>32.30</td>\n",
       "      <td>57.85</td>\n",
       "      <td>63.68</td>\n",
       "      <td>52.02</td>\n",
       "      <td>11:47:59 20 Jan 2021</td>\n",
       "    </tr>\n",
       "    <tr>\n",
       "      <th>3</th>\n",
       "      <td>Donald Trump</td>\n",
       "      <td>All polls</td>\n",
       "      <td>1/19/2021</td>\n",
       "      <td>39.16</td>\n",
       "      <td>45.18</td>\n",
       "      <td>33.14</td>\n",
       "      <td>57.43</td>\n",
       "      <td>62.94</td>\n",
       "      <td>51.92</td>\n",
       "      <td>22:36:53 19 Jan 2021</td>\n",
       "    </tr>\n",
       "    <tr>\n",
       "      <th>4</th>\n",
       "      <td>Donald Trump</td>\n",
       "      <td>Adults</td>\n",
       "      <td>1/19/2021</td>\n",
       "      <td>38.05</td>\n",
       "      <td>43.54</td>\n",
       "      <td>32.56</td>\n",
       "      <td>59.08</td>\n",
       "      <td>64.49</td>\n",
       "      <td>53.67</td>\n",
       "      <td>22:38:31 19 Jan 2021</td>\n",
       "    </tr>\n",
       "  </tbody>\n",
       "</table>\n",
       "</div>"
      ],
      "text/plain": [
       "      president   subgroup  modeldate  approve_estimate  approve_hi  \\\n",
       "0  Donald Trump     Voters  1/20/2021             39.41       45.87   \n",
       "1  Donald Trump     Adults  1/20/2021             36.95       42.81   \n",
       "2  Donald Trump  All polls  1/20/2021             38.62       44.94   \n",
       "3  Donald Trump  All polls  1/19/2021             39.16       45.18   \n",
       "4  Donald Trump     Adults  1/19/2021             38.05       43.54   \n",
       "\n",
       "   approve_lo  disapprove_estimate  disapprove_hi  disapprove_lo  \\\n",
       "0       32.95                56.71          62.47          50.95   \n",
       "1       31.09                59.62          65.47          53.76   \n",
       "2       32.30                57.85          63.68          52.02   \n",
       "3       33.14                57.43          62.94          51.92   \n",
       "4       32.56                59.08          64.49          53.67   \n",
       "\n",
       "              timestamp  \n",
       "0  11:52:51 20 Jan 2021  \n",
       "1  11:49:36 20 Jan 2021  \n",
       "2  11:47:59 20 Jan 2021  \n",
       "3  22:36:53 19 Jan 2021  \n",
       "4  22:38:31 19 Jan 2021  "
      ]
     },
     "execution_count": 151,
     "metadata": {},
     "output_type": "execute_result"
    }
   ],
   "source": [
    "df.head()"
   ]
  },
  {
   "cell_type": "markdown",
   "id": "3119a895",
   "metadata": {},
   "source": [
    "Data types seems to be ok , no need to make any changes"
   ]
  },
  {
   "cell_type": "code",
   "execution_count": 152,
   "id": "3e278a9e",
   "metadata": {},
   "outputs": [],
   "source": [
    "### Dicussion regarding the balancing of data set"
   ]
  },
  {
   "cell_type": "code",
   "execution_count": 153,
   "id": "d9da947b",
   "metadata": {},
   "outputs": [
    {
     "data": {
      "text/plain": [
       "'\\nCorrelations between Attributes \\n#######################################################################################################\\nExplain postive and negative Correlations\\n\\n'"
      ]
     },
     "execution_count": 153,
     "metadata": {},
     "output_type": "execute_result"
    }
   ],
   "source": [
    "'''\n",
    "Correlations between Attributes \n",
    "#######################################################################################################\n",
    "Explain postive and negative Correlations\n",
    "\n",
    "'''"
   ]
  },
  {
   "cell_type": "code",
   "execution_count": 154,
   "id": "0ed2e3ee",
   "metadata": {
    "scrolled": true
   },
   "outputs": [
    {
     "data": {
      "text/plain": [
       "president              0\n",
       "subgroup               0\n",
       "modeldate              0\n",
       "approve_estimate       0\n",
       "approve_hi             0\n",
       "approve_lo             0\n",
       "disapprove_estimate    0\n",
       "disapprove_hi          0\n",
       "disapprove_lo          0\n",
       "timestamp              0\n",
       "dtype: int64"
      ]
     },
     "execution_count": 154,
     "metadata": {},
     "output_type": "execute_result"
    }
   ],
   "source": [
    "# looking for null values\n",
    "df.isnull().sum()"
   ]
  },
  {
   "cell_type": "code",
   "execution_count": 155,
   "id": "6fc33157",
   "metadata": {},
   "outputs": [
    {
     "data": {
      "text/plain": [
       "4377"
      ]
     },
     "execution_count": 155,
     "metadata": {},
     "output_type": "execute_result"
    }
   ],
   "source": [
    "# checking number of rows in the dataframe\n",
    "df.shape[0]"
   ]
  },
  {
   "cell_type": "markdown",
   "id": "90724a20",
   "metadata": {},
   "source": [
    "We do not need this much data for analysis, keeping the size of data between n*100 to n*1000 for balance"
   ]
  },
  {
   "cell_type": "code",
   "execution_count": 156,
   "id": "aa4a2e52",
   "metadata": {
    "scrolled": true
   },
   "outputs": [
    {
     "name": "stdout",
     "output_type": "stream",
     "text": [
      "<class 'pandas.core.frame.DataFrame'>\n",
      "Int64Index: 4377 entries, 0 to 4376\n",
      "Data columns (total 10 columns):\n",
      " #   Column               Non-Null Count  Dtype  \n",
      "---  ------               --------------  -----  \n",
      " 0   president            4377 non-null   object \n",
      " 1   subgroup             4377 non-null   object \n",
      " 2   modeldate            4377 non-null   object \n",
      " 3   approve_estimate     4377 non-null   float64\n",
      " 4   approve_hi           4377 non-null   float64\n",
      " 5   approve_lo           4377 non-null   float64\n",
      " 6   disapprove_estimate  4377 non-null   float64\n",
      " 7   disapprove_hi        4377 non-null   float64\n",
      " 8   disapprove_lo        4377 non-null   float64\n",
      " 9   timestamp            4377 non-null   object \n",
      "dtypes: float64(6), object(4)\n",
      "memory usage: 376.1+ KB\n"
     ]
    }
   ],
   "source": [
    "# taking the first 15k records for the analysis\n",
    "df = df[:15000]\n",
    "df.info()"
   ]
  },
  {
   "cell_type": "code",
   "execution_count": 157,
   "id": "5804fd06",
   "metadata": {},
   "outputs": [],
   "source": [
    "# df['_medpoly2'].isnull().sum()"
   ]
  },
  {
   "cell_type": "markdown",
   "id": "3b7a0f24",
   "metadata": {},
   "source": [
    "I have noticed around 3700 columnd are empty in distric column, it 24% of total number of columns, I am not going to change anything in these feilds at the moment."
   ]
  },
  {
   "cell_type": "code",
   "execution_count": 158,
   "id": "d2374449",
   "metadata": {
    "scrolled": true
   },
   "outputs": [
    {
     "data": {
      "text/html": [
       "<div>\n",
       "<style scoped>\n",
       "    .dataframe tbody tr th:only-of-type {\n",
       "        vertical-align: middle;\n",
       "    }\n",
       "\n",
       "    .dataframe tbody tr th {\n",
       "        vertical-align: top;\n",
       "    }\n",
       "\n",
       "    .dataframe thead th {\n",
       "        text-align: right;\n",
       "    }\n",
       "</style>\n",
       "<table border=\"1\" class=\"dataframe\">\n",
       "  <thead>\n",
       "    <tr style=\"text-align: right;\">\n",
       "      <th></th>\n",
       "      <th>approve_estimate</th>\n",
       "      <th>approve_hi</th>\n",
       "      <th>approve_lo</th>\n",
       "      <th>disapprove_estimate</th>\n",
       "      <th>disapprove_hi</th>\n",
       "      <th>disapprove_lo</th>\n",
       "    </tr>\n",
       "  </thead>\n",
       "  <tbody>\n",
       "    <tr>\n",
       "      <th>approve_estimate</th>\n",
       "      <td>1.00</td>\n",
       "      <td>0.97</td>\n",
       "      <td>0.96</td>\n",
       "      <td>-0.82</td>\n",
       "      <td>-0.84</td>\n",
       "      <td>-0.75</td>\n",
       "    </tr>\n",
       "    <tr>\n",
       "      <th>approve_hi</th>\n",
       "      <td>0.97</td>\n",
       "      <td>1.00</td>\n",
       "      <td>0.88</td>\n",
       "      <td>-0.80</td>\n",
       "      <td>-0.80</td>\n",
       "      <td>-0.76</td>\n",
       "    </tr>\n",
       "    <tr>\n",
       "      <th>approve_lo</th>\n",
       "      <td>0.96</td>\n",
       "      <td>0.88</td>\n",
       "      <td>1.00</td>\n",
       "      <td>-0.78</td>\n",
       "      <td>-0.82</td>\n",
       "      <td>-0.70</td>\n",
       "    </tr>\n",
       "    <tr>\n",
       "      <th>disapprove_estimate</th>\n",
       "      <td>-0.82</td>\n",
       "      <td>-0.80</td>\n",
       "      <td>-0.78</td>\n",
       "      <td>1.00</td>\n",
       "      <td>0.97</td>\n",
       "      <td>0.97</td>\n",
       "    </tr>\n",
       "    <tr>\n",
       "      <th>disapprove_hi</th>\n",
       "      <td>-0.84</td>\n",
       "      <td>-0.80</td>\n",
       "      <td>-0.82</td>\n",
       "      <td>0.97</td>\n",
       "      <td>1.00</td>\n",
       "      <td>0.89</td>\n",
       "    </tr>\n",
       "    <tr>\n",
       "      <th>disapprove_lo</th>\n",
       "      <td>-0.75</td>\n",
       "      <td>-0.76</td>\n",
       "      <td>-0.70</td>\n",
       "      <td>0.97</td>\n",
       "      <td>0.89</td>\n",
       "      <td>1.00</td>\n",
       "    </tr>\n",
       "  </tbody>\n",
       "</table>\n",
       "</div>"
      ],
      "text/plain": [
       "                     approve_estimate  approve_hi  approve_lo  \\\n",
       "approve_estimate                 1.00        0.97        0.96   \n",
       "approve_hi                       0.97        1.00        0.88   \n",
       "approve_lo                       0.96        0.88        1.00   \n",
       "disapprove_estimate             -0.82       -0.80       -0.78   \n",
       "disapprove_hi                   -0.84       -0.80       -0.82   \n",
       "disapprove_lo                   -0.75       -0.76       -0.70   \n",
       "\n",
       "                     disapprove_estimate  disapprove_hi  disapprove_lo  \n",
       "approve_estimate                   -0.82          -0.84          -0.75  \n",
       "approve_hi                         -0.80          -0.80          -0.76  \n",
       "approve_lo                         -0.78          -0.82          -0.70  \n",
       "disapprove_estimate                 1.00           0.97           0.97  \n",
       "disapprove_hi                       0.97           1.00           0.89  \n",
       "disapprove_lo                       0.97           0.89           1.00  "
      ]
     },
     "execution_count": 158,
     "metadata": {},
     "output_type": "execute_result"
    }
   ],
   "source": [
    "Correlations=df.corr()\n",
    "Correlations"
   ]
  },
  {
   "cell_type": "code",
   "execution_count": 159,
   "id": "ffa40863",
   "metadata": {
    "scrolled": true
   },
   "outputs": [
    {
     "name": "stdout",
     "output_type": "stream",
     "text": [
      "approve_estimate      -0.40\n",
      "approve_hi            -0.29\n",
      "approve_lo            -0.49\n",
      "disapprove_estimate   -1.44\n",
      "disapprove_hi         -0.85\n",
      "disapprove_lo         -1.83\n",
      "dtype: float64\n"
     ]
    }
   ],
   "source": [
    "# Skew to identify the nature of the data.\n",
    "'''Skew refer to distribution that is assumed to be Gaussian (Normal or Bell Curve)\n",
    "It could be shifted or squashed in one directions or another \n",
    "Machine learning assume to have a gaussian distribution'''\n",
    "skew_data=df.skew()\n",
    "print(skew_data)"
   ]
  },
  {
   "cell_type": "markdown",
   "id": "b2e92f36",
   "metadata": {},
   "source": [
    "### Data Visualization"
   ]
  },
  {
   "cell_type": "code",
   "execution_count": 167,
   "id": "de08da83",
   "metadata": {},
   "outputs": [],
   "source": [
    "from matplotlib import pyplot"
   ]
  },
  {
   "cell_type": "code",
   "execution_count": 170,
   "id": "2a6750bc",
   "metadata": {
    "scrolled": true
   },
   "outputs": [
    {
     "data": {
      "image/png": "[encoded data removed]",
      "text/plain": [
       "<Figure size 432x288 with 6 Axes>"
      ]
     },
     "metadata": {
      "needs_background": "light"
     },
     "output_type": "display_data"
    },
    {
     "data": {
      "text/plain": [
       "'\\nHelps us understand the data is skew, Gaussian and exponential distribution \\nAlso help us to see the possible outliner'"
      ]
     },
     "execution_count": 170,
     "metadata": {},
     "output_type": "execute_result"
    }
   ],
   "source": [
    "histogram=df.hist()\n",
    "layout = 3,2\n",
    "pyplot.show()\n",
    "'''\n",
    "Helps us understand the data is skew, Gaussian and exponential distribution \n",
    "Also help us to see the possible outliner'''"
   ]
  },
  {
   "cell_type": "code",
   "execution_count": 164,
   "id": "b557a617",
   "metadata": {
    "scrolled": false
   },
   "outputs": [
    {
     "data": {
      "image/png": "[encoded data removed]",
      "text/plain": [
       "<Figure size 432x288 with 6 Axes>"
      ]
     },
     "metadata": {
      "needs_background": "light"
     },
     "output_type": "display_data"
    }
   ],
   "source": [
    "M=df.plot(kind='box',subplots=True,layout=(2,3),sharex=False,sharey=False)\n",
    "layout = 5,5"
   ]
  },
  {
   "cell_type": "code",
   "execution_count": null,
   "id": "923da8ea",
   "metadata": {},
   "outputs": [],
   "source": []
  }
 ],
 "metadata": {
  "kernelspec": {
   "display_name": "Python 3",
   "language": "python",
   "name": "python3"
  },
  "language_info": {
   "codemirror_mode": {
    "name": "ipython",
    "version": 3
   },
   "file_extension": ".py",
   "mimetype": "text/x-python",
   "name": "python",
   "nbconvert_exporter": "python",
   "pygments_lexer": "ipython3",
   "version": "3.8.8"
  }
 },
 "nbformat": 4,
 "nbformat_minor": 5
}
